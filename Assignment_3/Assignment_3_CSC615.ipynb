{
  "nbformat": 4,
  "nbformat_minor": 0,
  "metadata": {
    "colab": {
      "provenance": []
    },
    "kernelspec": {
      "name": "python3",
      "display_name": "Python 3"
    },
    "language_info": {
      "name": "python"
    }
  },
  "cells": [
    {
      "cell_type": "code",
      "execution_count": 23,
      "metadata": {
        "id": "CYGRIBlVGca9"
      },
      "outputs": [],
      "source": [
        "# Dependencies\n",
        "import numpy as np\n",
        "import pandas as pd\n",
        "from sklearn.preprocessing import StandardScaler\n",
        "from sklearn.model_selection import RandomizedSearchCV, GroupKFold\n",
        "from scipy.stats import uniform, expon\n",
        "from sklearn.pipeline import Pipeline\n",
        "from sklearn.metrics import make_scorer, confusion_matrix, roc_auc_score\n",
        "from sklearn.linear_model import LogisticRegression\n",
        "import pickle"
      ]
    },
    {
      "cell_type": "markdown",
      "source": [
        "Importing Steinmetz Data and K-Fold splits"
      ],
      "metadata": {
        "id": "HECEEAFlHe3E"
      }
    },
    {
      "cell_type": "code",
      "source": [
        "df_tr = np.array(pd.read_csv(\"data_transformed_train.csv\", index_col = 0))\n",
        "splits = pd.read_csv('splits10by10.csv', index_col = 0).reset_index(drop = True) - 1\n",
        "\n",
        "X_train = df_tr[:,0:20]\n",
        "y_train = df_tr[:,20].reshape((X_train.shape[0],1))\n",
        "print(X_train.shape, y_train.shape)"
      ],
      "metadata": {
        "colab": {
          "base_uri": "https://localhost:8080/"
        },
        "id": "WP6I8B9hHaQL",
        "outputId": "590970c6-ecc2-4f82-c750-2f92cc6a5b1b"
      },
      "execution_count": 24,
      "outputs": [
        {
          "output_type": "stream",
          "name": "stdout",
          "text": [
            "(7012, 20) (7012, 1)\n"
          ]
        }
      ]
    },
    {
      "cell_type": "code",
      "source": [
        "df_te = np.array(pd.read_csv(\"data_transformed_test.csv\", index_col = 0))\n",
        "\n",
        "X_test = df_te[:,0:20]\n",
        "y_test = df_te[:,20].reshape((X_test.shape[0],1))\n",
        "print(X_test.shape, y_test.shape)"
      ],
      "metadata": {
        "colab": {
          "base_uri": "https://localhost:8080/"
        },
        "id": "YHYOD456Hans",
        "outputId": "eabe753f-e653-4b8d-e9b5-db80f457fb59"
      },
      "execution_count": 25,
      "outputs": [
        {
          "output_type": "stream",
          "name": "stdout",
          "text": [
            "(1038, 20) (1038, 1)\n"
          ]
        }
      ]
    },
    {
      "cell_type": "markdown",
      "source": [
        "Tuning Logistic Regression on Steinmetz Data"
      ],
      "metadata": {
        "id": "Hy7VT7MZHnpC"
      }
    },
    {
      "cell_type": "code",
      "source": [
        "def inv_squared_diff(y_true, y_pred):\n",
        "    \"\"\"Computes the sum of squared differences for true and predicted labels.\n",
        "       The score is negative to be maximized instead of minimized.\n",
        "\n",
        "    Parameters\n",
        "    ----------\n",
        "    y_true : numpy.array\n",
        "        The true labels\n",
        "    y_pred : numpy.array\n",
        "        The predicted label\n",
        "\n",
        "    Returns\n",
        "    -------\n",
        "    float\n",
        "        The negative of the sum of squared differences\n",
        "    \"\"\"\n",
        "    return(-(0.5*np.sum((y_true - y_pred)**2)))\n",
        "\n",
        "def save_object(obj, filename):\n",
        "    \"\"\"Saved python object as pickle file to current directory\n",
        "\n",
        "    Parameters\n",
        "    ----------\n",
        "    obj : any\n",
        "        The python object to save\n",
        "    filename : str\n",
        "        The file name to use for .pkl file (format: '_.pkl')\n",
        "\n",
        "    Returns\n",
        "    -------\n",
        "    None\n",
        "    \"\"\"\n",
        "    with open(filename, 'wb') as outp:  # Overwrites any existing file.\n",
        "        pickle.dump(obj, outp, pickle.HIGHEST_PROTOCOL)\n",
        "        \n",
        "def read_object(name):\n",
        "    \"\"\"Read pickle file as python object from current directory\n",
        "\n",
        "    Parameters\n",
        "    ----------\n",
        "    name : str\n",
        "        The .pkl file name excluding '.pkl' extension (format: name.pkl)\n",
        "\n",
        "    Returns\n",
        "    -------\n",
        "    any\n",
        "        The python object contained in the pickle file\n",
        "    \"\"\"\n",
        "    fName = str(name + '.pkl')\n",
        "    with open(fName, 'rb') as f:  # with statement avoids file leak\n",
        "        return pickle.load(f)"
      ],
      "metadata": {
        "id": "OPC95voLHcrR"
      },
      "execution_count": 26,
      "outputs": []
    },
    {
      "cell_type": "code",
      "source": [
        "params = [dict(lr__penalty = ['none'],\n",
        "              lr__solver = ['newton-cg', 'lbfgs', 'sag', 'saga']), \n",
        "              dict(lr__penalty = ['l1'],\n",
        "              lr__C = expon(0,7),\n",
        "              lr__solver = ['liblinear', 'saga']),\n",
        "              dict(lr__penalty = ['l2'],\n",
        "              lr__C = expon(0,7),\n",
        "              lr__solver = ['newton-cg', 'lbfgs', 'liblinear', 'sag', 'saga']),\n",
        "              dict(lr__penalty = ['elasticnet'],\n",
        "              lr__l1_ratio = uniform(),\n",
        "              lr__C = expon(0,7),\n",
        "              lr__solver = ['saga'])]\n",
        "\n",
        "scorer = make_scorer(inv_squared_diff, needs_proba = True) #Make common scorer to be maximized by search\n",
        "\n",
        "searches = list()\n",
        "\n",
        "n_iter = 3\n",
        "max_epochs = 100\n",
        "for i in range(n_iter):\n",
        "    #Tune each model n_iter times using same folds as all other models.\n",
        "    #Each fold is scaled before use\n",
        "    #Initialize models differently each time but keep randomly sampled params constant\n",
        "    print(\"======================\")\n",
        "    print(\"Iteration\", str(i + 1))\n",
        "    group_kfold = GroupKFold(n_splits=10)\n",
        "    steps = [('scaler', StandardScaler(with_mean = False)), \n",
        "             ('lr', LogisticRegression(random_state = 123 + i))]\n",
        "    pipeline = Pipeline(steps)\n",
        "\n",
        "    lr = RandomizedSearchCV(pipeline, params, random_state = 123, return_train_score = True, cv = group_kfold, n_jobs = 2, verbose = 1)\n",
        "\n",
        "    searches.append(lr.fit(X_train, np.ravel(y_train), groups = splits.iloc[:,i].tolist()))\n",
        "\n",
        "print(\"======================\")\n",
        "print(\"====Done====\")\n",
        "\n",
        "save_object(searches, 'searches_lr.pkl')"
      ],
      "metadata": {
        "colab": {
          "base_uri": "https://localhost:8080/"
        },
        "id": "-BbXtY-7Hv0I",
        "outputId": "b00f9799-d89c-484c-fb60-2dde9f874409"
      },
      "execution_count": 27,
      "outputs": [
        {
          "output_type": "stream",
          "name": "stdout",
          "text": [
            "======================\n",
            "Iteration 1\n",
            "Fitting 10 folds for each of 10 candidates, totalling 100 fits\n",
            "======================\n",
            "Iteration 2\n",
            "Fitting 10 folds for each of 10 candidates, totalling 100 fits\n",
            "======================\n",
            "Iteration 3\n",
            "Fitting 10 folds for each of 10 candidates, totalling 100 fits\n",
            "======================\n",
            "====Done====\n"
          ]
        }
      ]
    },
    {
      "cell_type": "code",
      "source": [
        "print('Logistic Regression')\n",
        "print(searches[0].best_params_)\n",
        "print(searches[1].best_params_)\n",
        "print(searches[2].best_params_)"
      ],
      "metadata": {
        "colab": {
          "base_uri": "https://localhost:8080/"
        },
        "id": "AsZNbSVYIE5N",
        "outputId": "ae892daf-3755-420e-bdfc-5e60dc3ad7d0"
      },
      "execution_count": 28,
      "outputs": [
        {
          "output_type": "stream",
          "name": "stdout",
          "text": [
            "Logistic Regression\n",
            "{'lr__penalty': 'none', 'lr__solver': 'newton-cg'}\n",
            "{'lr__penalty': 'none', 'lr__solver': 'newton-cg'}\n",
            "{'lr__penalty': 'none', 'lr__solver': 'newton-cg'}\n"
          ]
        }
      ]
    },
    {
      "cell_type": "markdown",
      "source": [
        "Training with best parameters"
      ],
      "metadata": {
        "id": "avNwicUvIlAz"
      }
    },
    {
      "cell_type": "code",
      "source": [
        "def get_classes(y_prob, threshold = .5):\n",
        "    \"\"\"Converts probability of positive class to binary 0,1 labels given a threshold\n",
        "    \n",
        "    Parameters\n",
        "    ----------\n",
        "    y_prob : numpy.array\n",
        "        The predicted positive class probabilities\n",
        "    threshold : float (default .5)\n",
        "        The threshold above which a positive instance is predicted\n",
        "\n",
        "    Returns\n",
        "    -------\n",
        "    numpy.array\n",
        "        The binary class labels\n",
        "    \"\"\"\n",
        "    return(np.array([1 if i > threshold else 0 for i in y_prob]))\n",
        "\n",
        "def calc_metrics(y_true, y_pred):\n",
        "    \"\"\"Computes confusion matrix, accuracy, precision, recall, specificity, f1-score, and AUC for true and predicted labels\n",
        "\n",
        "    Parameters\n",
        "    ----------\n",
        "    y_true : numpy.array\n",
        "        The true labels\n",
        "    y_pred : numpy.array\n",
        "        The predicted label\n",
        "\n",
        "    Returns\n",
        "    -------\n",
        "    tuple\n",
        "        The first element is a confusion matrix, the second is a dictionary of remaining metrics\n",
        "    \"\"\"\n",
        "    cm = confusion_matrix(np.ravel(y_true), y_pred.astype('int32'))\n",
        "    acc = np.mean(y_true == y_pred.astype('int32'))\n",
        "    auc = roc_auc_score(np.ravel(y_true), y_pred.astype('int32'))\n",
        "    tn = cm[0,0]\n",
        "    fn = cm[1,0]\n",
        "    tp = cm[1,1]\n",
        "    fp = cm[0,1]\n",
        "    \n",
        "    if(tp + fp == 0):\n",
        "        precision = np.nan\n",
        "    else:\n",
        "        precision = tp/(tp + fp)\n",
        "        \n",
        "    if(tp + fn == 0):\n",
        "        recall = np.nan\n",
        "    else:\n",
        "        recall = tp/(tp + fn)\n",
        "    \n",
        "    if(tn + fp == 0):\n",
        "        specificity = np.nan\n",
        "    else:\n",
        "        specificity = tn/(tn + fp)\n",
        "        \n",
        "    if(precision + recall == 0):\n",
        "        f1 = np.nan\n",
        "    else:\n",
        "        f1 = 2 * ((precision * recall)/(precision + recall))\n",
        "    \n",
        "    return((cm, {'Accuracy': [acc], 'AUC': [auc], 'Precision': [precision], 'Recall': [recall], 'Specificity': [specificity], 'F1-score': [f1]}))\n",
        "\n"
      ],
      "metadata": {
        "id": "96wdDMzeIjDa"
      },
      "execution_count": 29,
      "outputs": []
    },
    {
      "cell_type": "code",
      "source": [
        "errs_tr = list()\n",
        "errs_val = list()\n",
        "\n",
        "n_iter = 10\n",
        "n_folds = 10\n",
        "tuned_params = searches[0].best_params_\n",
        "\n",
        "scores = pd.DataFrame()\n",
        "cms = dict()\n",
        "cms['LR'] = []\n",
        "\n",
        "for i in range(n_iter):\n",
        "    #Retrain models using best parameters on all training set and compute testing metrics n_iter times\n",
        "    #Vary model initialization\n",
        "    print(\"======================\")\n",
        "    print(\"Iteration\", str(i + 1))\n",
        "    groups = splits.iloc[:,i].tolist()\n",
        "    group_kfold = GroupKFold(n_splits=n_folds)\n",
        "    scaler = StandardScaler(with_mean = False)\n",
        "    steps = [('scaler', scaler), \n",
        "           ('lr', LogisticRegression(penalty = tuned_params['lr__penalty'], \n",
        "                                     #C = tuned_params['lr__C'], \n",
        "                                     solver = tuned_params['lr__solver'], \n",
        "                                     #l1_ratio = tuned_params['lr__l1_ratio'], \n",
        "                                     random_state = 123 + i)\n",
        "        )]\n",
        "    \n",
        "    #Initialize pipelines\n",
        "    lr = Pipeline(steps)\n",
        "    \n",
        "    #Fit models on all training and validation data\n",
        "    lr.fit(X_train, np.ravel(y_train))\n",
        "    \n",
        "    #Get predictions\n",
        "    y_hat = lr.predict(X_test)\n",
        "    \n",
        "    #Get scores\n",
        "    lr_cm, lr_scores = calc_metrics(np.ravel(y_test), y_hat)\n",
        "    \n",
        "    cms['LR'].append(lr_cm)\n",
        "    \n",
        "    scores = pd.concat([scores, pd.DataFrame(lr_scores)], axis = 0)\n",
        "    \n",
        "    for tr_index, val_index in group_kfold.split(X_train, y_train, groups):\n",
        "        #Cross-validate error for models using best parameters\n",
        "        #Vary model initialization at each outer iteration and training data at each inner iteration (fold)\n",
        "        #Folds used are the same as all other models\n",
        "        \n",
        "        #Initialize pipelines\n",
        "        lr = Pipeline(steps)\n",
        "        \n",
        "        #Fit models on training data only\n",
        "        lr.fit(X_train[tr_index,:], np.ravel(y_train[tr_index,:]))\n",
        "                \n",
        "        #Errors/fold\n",
        "        y_hat_tr = lr.predict_proba(X_train[tr_index,:])\n",
        "        y_hat_val = lr.predict_proba(X_train[val_index,:])\n",
        "        errs_tr.append(-inv_squared_diff(y_train[tr_index,:], y_hat_tr))\n",
        "        errs_val.append(-inv_squared_diff(y_train[val_index,:], y_hat_val))\n",
        "\n",
        "print(\"======================\")\n",
        "print(\"====Done====\")"
      ],
      "metadata": {
        "colab": {
          "base_uri": "https://localhost:8080/"
        },
        "id": "e1PRSflwIu-0",
        "outputId": "bceb4c3b-2c2b-4747-94e8-c03deb2a747e"
      },
      "execution_count": 30,
      "outputs": [
        {
          "output_type": "stream",
          "name": "stdout",
          "text": [
            "======================\n",
            "Iteration 1\n",
            "======================\n",
            "Iteration 2\n",
            "======================\n",
            "Iteration 3\n",
            "======================\n",
            "Iteration 4\n",
            "======================\n",
            "Iteration 5\n",
            "======================\n",
            "Iteration 6\n",
            "======================\n",
            "Iteration 7\n",
            "======================\n",
            "Iteration 8\n",
            "======================\n",
            "Iteration 9\n",
            "======================\n",
            "Iteration 10\n",
            "======================\n",
            "====Done====\n"
          ]
        }
      ]
    },
    {
      "cell_type": "code",
      "source": [
        "#Get mean and sd of each testing metric (over 10 models)\n",
        "scores_stats = scores.describe()\n",
        "scores_stats_all = pd.concat([scores_stats.iloc[1,:], scores_stats.iloc[2,:]], axis = 1)\n",
        "scores_stats_all.columns = ['LR_mean', 'LR_sd']\n",
        "\n",
        "#Get errors of each model\n",
        "errs = pd.DataFrame({'train_error': errs_tr, 'val_error': errs_val})\n",
        "\n",
        "#Get mean and sd of errors (over 100 models)\n",
        "errs_agg = errs.agg([np.nanmean, np.nanstd])"
      ],
      "metadata": {
        "id": "bThue6LrJ_HR"
      },
      "execution_count": 31,
      "outputs": []
    },
    {
      "cell_type": "code",
      "source": [
        "scores_stats_all"
      ],
      "metadata": {
        "colab": {
          "base_uri": "https://localhost:8080/",
          "height": 238
        },
        "id": "xHAq4elkKXnA",
        "outputId": "2917f637-5a6f-40b3-a83d-28d8bd812ec5"
      },
      "execution_count": 32,
      "outputs": [
        {
          "output_type": "execute_result",
          "data": {
            "text/plain": [
              "              LR_mean         LR_sd\n",
              "Accuracy     0.597303  1.170278e-16\n",
              "AUC          0.593626  0.000000e+00\n",
              "Precision    0.660107  0.000000e+00\n",
              "Recall       0.618090  1.170278e-16\n",
              "Specificity  0.569161  0.000000e+00\n",
              "F1-score     0.638408  1.170278e-16"
            ],
            "text/html": [
              "\n",
              "  <div id=\"df-676ef1f7-8392-4ade-a6e0-9d59d6995699\">\n",
              "    <div class=\"colab-df-container\">\n",
              "      <div>\n",
              "<style scoped>\n",
              "    .dataframe tbody tr th:only-of-type {\n",
              "        vertical-align: middle;\n",
              "    }\n",
              "\n",
              "    .dataframe tbody tr th {\n",
              "        vertical-align: top;\n",
              "    }\n",
              "\n",
              "    .dataframe thead th {\n",
              "        text-align: right;\n",
              "    }\n",
              "</style>\n",
              "<table border=\"1\" class=\"dataframe\">\n",
              "  <thead>\n",
              "    <tr style=\"text-align: right;\">\n",
              "      <th></th>\n",
              "      <th>LR_mean</th>\n",
              "      <th>LR_sd</th>\n",
              "    </tr>\n",
              "  </thead>\n",
              "  <tbody>\n",
              "    <tr>\n",
              "      <th>Accuracy</th>\n",
              "      <td>0.597303</td>\n",
              "      <td>1.170278e-16</td>\n",
              "    </tr>\n",
              "    <tr>\n",
              "      <th>AUC</th>\n",
              "      <td>0.593626</td>\n",
              "      <td>0.000000e+00</td>\n",
              "    </tr>\n",
              "    <tr>\n",
              "      <th>Precision</th>\n",
              "      <td>0.660107</td>\n",
              "      <td>0.000000e+00</td>\n",
              "    </tr>\n",
              "    <tr>\n",
              "      <th>Recall</th>\n",
              "      <td>0.618090</td>\n",
              "      <td>1.170278e-16</td>\n",
              "    </tr>\n",
              "    <tr>\n",
              "      <th>Specificity</th>\n",
              "      <td>0.569161</td>\n",
              "      <td>0.000000e+00</td>\n",
              "    </tr>\n",
              "    <tr>\n",
              "      <th>F1-score</th>\n",
              "      <td>0.638408</td>\n",
              "      <td>1.170278e-16</td>\n",
              "    </tr>\n",
              "  </tbody>\n",
              "</table>\n",
              "</div>\n",
              "      <button class=\"colab-df-convert\" onclick=\"convertToInteractive('df-676ef1f7-8392-4ade-a6e0-9d59d6995699')\"\n",
              "              title=\"Convert this dataframe to an interactive table.\"\n",
              "              style=\"display:none;\">\n",
              "        \n",
              "  <svg xmlns=\"http://www.w3.org/2000/svg\" height=\"24px\"viewBox=\"0 0 24 24\"\n",
              "       width=\"24px\">\n",
              "    <path d=\"M0 0h24v24H0V0z\" fill=\"none\"/>\n",
              "    <path d=\"M18.56 5.44l.94 2.06.94-2.06 2.06-.94-2.06-.94-.94-2.06-.94 2.06-2.06.94zm-11 1L8.5 8.5l.94-2.06 2.06-.94-2.06-.94L8.5 2.5l-.94 2.06-2.06.94zm10 10l.94 2.06.94-2.06 2.06-.94-2.06-.94-.94-2.06-.94 2.06-2.06.94z\"/><path d=\"M17.41 7.96l-1.37-1.37c-.4-.4-.92-.59-1.43-.59-.52 0-1.04.2-1.43.59L10.3 9.45l-7.72 7.72c-.78.78-.78 2.05 0 2.83L4 21.41c.39.39.9.59 1.41.59.51 0 1.02-.2 1.41-.59l7.78-7.78 2.81-2.81c.8-.78.8-2.07 0-2.86zM5.41 20L4 18.59l7.72-7.72 1.47 1.35L5.41 20z\"/>\n",
              "  </svg>\n",
              "      </button>\n",
              "      \n",
              "  <style>\n",
              "    .colab-df-container {\n",
              "      display:flex;\n",
              "      flex-wrap:wrap;\n",
              "      gap: 12px;\n",
              "    }\n",
              "\n",
              "    .colab-df-convert {\n",
              "      background-color: #E8F0FE;\n",
              "      border: none;\n",
              "      border-radius: 50%;\n",
              "      cursor: pointer;\n",
              "      display: none;\n",
              "      fill: #1967D2;\n",
              "      height: 32px;\n",
              "      padding: 0 0 0 0;\n",
              "      width: 32px;\n",
              "    }\n",
              "\n",
              "    .colab-df-convert:hover {\n",
              "      background-color: #E2EBFA;\n",
              "      box-shadow: 0px 1px 2px rgba(60, 64, 67, 0.3), 0px 1px 3px 1px rgba(60, 64, 67, 0.15);\n",
              "      fill: #174EA6;\n",
              "    }\n",
              "\n",
              "    [theme=dark] .colab-df-convert {\n",
              "      background-color: #3B4455;\n",
              "      fill: #D2E3FC;\n",
              "    }\n",
              "\n",
              "    [theme=dark] .colab-df-convert:hover {\n",
              "      background-color: #434B5C;\n",
              "      box-shadow: 0px 1px 3px 1px rgba(0, 0, 0, 0.15);\n",
              "      filter: drop-shadow(0px 1px 2px rgba(0, 0, 0, 0.3));\n",
              "      fill: #FFFFFF;\n",
              "    }\n",
              "  </style>\n",
              "\n",
              "      <script>\n",
              "        const buttonEl =\n",
              "          document.querySelector('#df-676ef1f7-8392-4ade-a6e0-9d59d6995699 button.colab-df-convert');\n",
              "        buttonEl.style.display =\n",
              "          google.colab.kernel.accessAllowed ? 'block' : 'none';\n",
              "\n",
              "        async function convertToInteractive(key) {\n",
              "          const element = document.querySelector('#df-676ef1f7-8392-4ade-a6e0-9d59d6995699');\n",
              "          const dataTable =\n",
              "            await google.colab.kernel.invokeFunction('convertToInteractive',\n",
              "                                                     [key], {});\n",
              "          if (!dataTable) return;\n",
              "\n",
              "          const docLinkHtml = 'Like what you see? Visit the ' +\n",
              "            '<a target=\"_blank\" href=https://colab.research.google.com/notebooks/data_table.ipynb>data table notebook</a>'\n",
              "            + ' to learn more about interactive tables.';\n",
              "          element.innerHTML = '';\n",
              "          dataTable['output_type'] = 'display_data';\n",
              "          await google.colab.output.renderOutput(dataTable, element);\n",
              "          const docLink = document.createElement('div');\n",
              "          docLink.innerHTML = docLinkHtml;\n",
              "          element.appendChild(docLink);\n",
              "        }\n",
              "      </script>\n",
              "    </div>\n",
              "  </div>\n",
              "  "
            ]
          },
          "metadata": {},
          "execution_count": 32
        }
      ]
    },
    {
      "cell_type": "code",
      "source": [
        "errs_agg.T"
      ],
      "metadata": {
        "colab": {
          "base_uri": "https://localhost:8080/",
          "height": 112
        },
        "id": "BgNT9rObKhVX",
        "outputId": "0d81509d-a29b-48cf-85e4-ffb485644c27"
      },
      "execution_count": 33,
      "outputs": [
        {
          "output_type": "execute_result",
          "data": {
            "text/plain": [
              "                 nanmean    nanstd\n",
              "train_error  1835.254064  3.974300\n",
              "val_error     203.926961  1.007372"
            ],
            "text/html": [
              "\n",
              "  <div id=\"df-5167d0d2-027a-48ca-bb12-901df62f8104\">\n",
              "    <div class=\"colab-df-container\">\n",
              "      <div>\n",
              "<style scoped>\n",
              "    .dataframe tbody tr th:only-of-type {\n",
              "        vertical-align: middle;\n",
              "    }\n",
              "\n",
              "    .dataframe tbody tr th {\n",
              "        vertical-align: top;\n",
              "    }\n",
              "\n",
              "    .dataframe thead th {\n",
              "        text-align: right;\n",
              "    }\n",
              "</style>\n",
              "<table border=\"1\" class=\"dataframe\">\n",
              "  <thead>\n",
              "    <tr style=\"text-align: right;\">\n",
              "      <th></th>\n",
              "      <th>nanmean</th>\n",
              "      <th>nanstd</th>\n",
              "    </tr>\n",
              "  </thead>\n",
              "  <tbody>\n",
              "    <tr>\n",
              "      <th>train_error</th>\n",
              "      <td>1835.254064</td>\n",
              "      <td>3.974300</td>\n",
              "    </tr>\n",
              "    <tr>\n",
              "      <th>val_error</th>\n",
              "      <td>203.926961</td>\n",
              "      <td>1.007372</td>\n",
              "    </tr>\n",
              "  </tbody>\n",
              "</table>\n",
              "</div>\n",
              "      <button class=\"colab-df-convert\" onclick=\"convertToInteractive('df-5167d0d2-027a-48ca-bb12-901df62f8104')\"\n",
              "              title=\"Convert this dataframe to an interactive table.\"\n",
              "              style=\"display:none;\">\n",
              "        \n",
              "  <svg xmlns=\"http://www.w3.org/2000/svg\" height=\"24px\"viewBox=\"0 0 24 24\"\n",
              "       width=\"24px\">\n",
              "    <path d=\"M0 0h24v24H0V0z\" fill=\"none\"/>\n",
              "    <path d=\"M18.56 5.44l.94 2.06.94-2.06 2.06-.94-2.06-.94-.94-2.06-.94 2.06-2.06.94zm-11 1L8.5 8.5l.94-2.06 2.06-.94-2.06-.94L8.5 2.5l-.94 2.06-2.06.94zm10 10l.94 2.06.94-2.06 2.06-.94-2.06-.94-.94-2.06-.94 2.06-2.06.94z\"/><path d=\"M17.41 7.96l-1.37-1.37c-.4-.4-.92-.59-1.43-.59-.52 0-1.04.2-1.43.59L10.3 9.45l-7.72 7.72c-.78.78-.78 2.05 0 2.83L4 21.41c.39.39.9.59 1.41.59.51 0 1.02-.2 1.41-.59l7.78-7.78 2.81-2.81c.8-.78.8-2.07 0-2.86zM5.41 20L4 18.59l7.72-7.72 1.47 1.35L5.41 20z\"/>\n",
              "  </svg>\n",
              "      </button>\n",
              "      \n",
              "  <style>\n",
              "    .colab-df-container {\n",
              "      display:flex;\n",
              "      flex-wrap:wrap;\n",
              "      gap: 12px;\n",
              "    }\n",
              "\n",
              "    .colab-df-convert {\n",
              "      background-color: #E8F0FE;\n",
              "      border: none;\n",
              "      border-radius: 50%;\n",
              "      cursor: pointer;\n",
              "      display: none;\n",
              "      fill: #1967D2;\n",
              "      height: 32px;\n",
              "      padding: 0 0 0 0;\n",
              "      width: 32px;\n",
              "    }\n",
              "\n",
              "    .colab-df-convert:hover {\n",
              "      background-color: #E2EBFA;\n",
              "      box-shadow: 0px 1px 2px rgba(60, 64, 67, 0.3), 0px 1px 3px 1px rgba(60, 64, 67, 0.15);\n",
              "      fill: #174EA6;\n",
              "    }\n",
              "\n",
              "    [theme=dark] .colab-df-convert {\n",
              "      background-color: #3B4455;\n",
              "      fill: #D2E3FC;\n",
              "    }\n",
              "\n",
              "    [theme=dark] .colab-df-convert:hover {\n",
              "      background-color: #434B5C;\n",
              "      box-shadow: 0px 1px 3px 1px rgba(0, 0, 0, 0.15);\n",
              "      filter: drop-shadow(0px 1px 2px rgba(0, 0, 0, 0.3));\n",
              "      fill: #FFFFFF;\n",
              "    }\n",
              "  </style>\n",
              "\n",
              "      <script>\n",
              "        const buttonEl =\n",
              "          document.querySelector('#df-5167d0d2-027a-48ca-bb12-901df62f8104 button.colab-df-convert');\n",
              "        buttonEl.style.display =\n",
              "          google.colab.kernel.accessAllowed ? 'block' : 'none';\n",
              "\n",
              "        async function convertToInteractive(key) {\n",
              "          const element = document.querySelector('#df-5167d0d2-027a-48ca-bb12-901df62f8104');\n",
              "          const dataTable =\n",
              "            await google.colab.kernel.invokeFunction('convertToInteractive',\n",
              "                                                     [key], {});\n",
              "          if (!dataTable) return;\n",
              "\n",
              "          const docLinkHtml = 'Like what you see? Visit the ' +\n",
              "            '<a target=\"_blank\" href=https://colab.research.google.com/notebooks/data_table.ipynb>data table notebook</a>'\n",
              "            + ' to learn more about interactive tables.';\n",
              "          element.innerHTML = '';\n",
              "          dataTable['output_type'] = 'display_data';\n",
              "          await google.colab.output.renderOutput(dataTable, element);\n",
              "          const docLink = document.createElement('div');\n",
              "          docLink.innerHTML = docLinkHtml;\n",
              "          element.appendChild(docLink);\n",
              "        }\n",
              "      </script>\n",
              "    </div>\n",
              "  </div>\n",
              "  "
            ]
          },
          "metadata": {},
          "execution_count": 33
        }
      ]
    }
  ]
}